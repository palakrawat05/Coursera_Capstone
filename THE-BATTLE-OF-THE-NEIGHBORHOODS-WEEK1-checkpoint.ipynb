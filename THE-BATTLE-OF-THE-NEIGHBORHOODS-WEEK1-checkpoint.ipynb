{
 "cells": [
  {
   "cell_type": "markdown",
   "metadata": {},
   "source": [
    "# The Battle of the Neighborhoods - Week 1"
   ]
  },
  {
   "cell_type": "markdown",
   "metadata": {},
   "source": [
    "# INTRODUCTION /BUISNESS INTREPRETATION"
   ]
  },
  {
   "cell_type": "markdown",
   "metadata": {},
   "source": [
    "Introduction/Business Problem section in your final report. So I recommend that you push the report (having your Introduction/Business Problem section only for now) to your Github repository and submit a link to it.\n",
    "\n",
    "This particular study will try to provide an optimum location for opening a new business in a Toronto based on:\n",
    "\n",
    "• The number of competitors in the neighborhood (data extracted from Foursquare's API),\n",
    "• The population density in the neighborhood (data scrapped from Wikipedia),\n",
    "• A neighborhoods property wich is the second most common language spoken (after English) in the neighborhood (data scrapped from Wikipedia)\n",
    "\n",
    "Let's investigate the City of Toronto, and propose the best possible place for opening a new restaurant with \"ethnic\" cuisine. Assume that preferably we would like the new restaurant to be located in a neighborhood with a high degree of the same ethnic characteristics, i.e. assume the languages spoken in that neighborhood, so to make advantage of the cultural element of the area. In order to sustain the new business, there should be a lot of population and the less number of competitors possible.\n",
    "\n",
    "The results could be usable for restaurant-businessmen"
   ]
  },
  {
   "cell_type": "markdown",
   "metadata": {},
   "source": [
    "# DATA INTERPRETATION:"
   ]
  },
  {
   "cell_type": "markdown",
   "metadata": {},
   "source": [
    "Data :\n",
    "One city will be analysed in this project : Newyork City.\n",
    "\n",
    "We will be using the below datasets for analysing Newyork city\n",
    "\n",
    "Data 1 : Neighborhood has a total of 5 boroughs and 306 neighborhoods. In order to segement the neighborhoods and explore them, we will essentially need a dataset that contains the 5 boroughs and the neighborhoods that exist in each borough as well as the the latitude and logitude coordinates of each neighborhood.\n",
    "\n",
    "This dataset exists for free on the web. Link to the dataset is : https://geo.nyu.edu/catalog/nyu_2451_34572\n",
    "\n",
    "Data 2 : Second data which will be used is the DOHMH Farmers Markets and Food Boxes dataset. In this we will be using the data of Farmers Markets.\n",
    "\n",
    "https://data.cityofnewyork.us/dataset/DOHMH-Farmers-Markets-and-Food-Boxes/8vwk-6iz2\n",
    "\n",
    "Website-https://www.grownyc.org/greenmarketco/foodbox\n",
    "GrowNYC's Fresh Food Box Program is a food access initiative that enables under-served communities to purchase fresh, healthy, and primarily regionally grown produce well below traditional retail prices.\n",
    "\n",
    "A farmers' market is often defined as a public site used by two or more local or regional producers for the direct sale of farm products to consumers. In addition to fresh fruits and vegetables, markets may sell dairy products, fish, meat, baked goods, and other minimally processed foods."
   ]
  },
  {
   "cell_type": "markdown",
   "metadata": {},
   "source": [
    "Data 3 : For the below analysis we will get data from wikipedia as given below :\n",
    "\n",
    "New York Population\n",
    "New York City Demographics\n",
    "Cuisine of New York city\n",
    "https://en.wikipedia.org/wiki/New_York_City\n",
    "https://en.wikipedia.org/wiki/Economy_of_New_York_City\n",
    "https://en.wikipedia.org/wiki/Portal:New_York_City\n",
    "https://en.wikipedia.org/wiki/Cuisine_of_New_York_City\n",
    "https://en.wikipedia.org/wiki/List_of_Michelin_starred_restaurants_in_New_York_City\n",
    "\n",
    "Data 4 : Newyork city geographical coordinates data will be utilized as input for the Foursquare API, that will be leveraged to provision venues information for each neighborhood.We will use the Foursquare API to explore neighborhoods in New York City. The below is image of the Foursquare API data.\n",
    "\n"
   ]
  }
 ],
 "metadata": {
  "kernelspec": {
   "display_name": "Python 3",
   "language": "python",
   "name": "python3"
  },
  "language_info": {
   "codemirror_mode": {
    "name": "ipython",
    "version": 3
   },
   "file_extension": ".py",
   "mimetype": "text/x-python",
   "name": "python",
   "nbconvert_exporter": "python",
   "pygments_lexer": "ipython3",
   "version": "3.7.4"
  }
 },
 "nbformat": 4,
 "nbformat_minor": 2
}
